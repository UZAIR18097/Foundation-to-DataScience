{
 "cells": [
  {
   "cell_type": "markdown",
   "metadata": {},
   "source": [
    "# Tutorial 4 : Data Visualizations\n"
   ]
  },
  {
   "cell_type": "markdown",
   "metadata": {},
   "source": [
    "Data visualization is the process of creating interactive visuals to understand\n",
    "trends, variations, and derive meaningful insights from the data. The main goal of data visualization is to communicate information clearly and effectively through graphical means"
   ]
  },
  {
   "cell_type": "markdown",
   "metadata": {},
   "source": [
    "In this tutorial, you’ll learn:\n",
    "\n",
    "- What the different types of pandas plots are and when to use them\n",
    "- How to get an overview of your dataset with a histogram\n",
    "- How to discover correlation with a scatter plot\n",
    "- How to analyze different categories and their ratios"
   ]
  },
  {
   "cell_type": "markdown",
   "metadata": {},
   "source": [
    "## About the data"
   ]
  },
  {
   "cell_type": "markdown",
   "metadata": {},
   "source": [
    "In this tutorial, you’re going to analyze data on college majors sourced from the American Community Survey 2010–2012 Public Use Microdata Sample. It served as the basis for the Economic Guide To Picking A College Major featured on the website FiveThirtyEight."
   ]
  },
  {
   "cell_type": "markdown",
   "metadata": {},
   "source": [
    "## Importing Pacakages"
   ]
  },
  {
   "cell_type": "code",
   "execution_count": 22,
   "metadata": {},
   "outputs": [],
   "source": [
    "import pandas as pd\n",
    "%matplotlib inline"
   ]
  },
  {
   "cell_type": "markdown",
   "metadata": {},
   "source": [
    "Note in last tutorial I used matplotlib.pyplot.The inline backend is popular for Jupyter Notebooks because it displays the plot in the notebook itself, immediately below the cell that creates the plot."
   ]
  },
  {
   "cell_type": "code",
   "execution_count": 2,
   "metadata": {},
   "outputs": [],
   "source": [
    "download_url = (\"https://raw.githubusercontent.com/fivethirtyeight/data/master/college-majors/recent-grads.csv\")"
   ]
  },
  {
   "cell_type": "code",
   "execution_count": 3,
   "metadata": {},
   "outputs": [],
   "source": [
    "df = pd.read_csv(download_url)"
   ]
  },
  {
   "cell_type": "code",
   "execution_count": 4,
   "metadata": {},
   "outputs": [
    {
     "data": {
      "text/html": [
       "<div>\n",
       "<style scoped>\n",
       "    .dataframe tbody tr th:only-of-type {\n",
       "        vertical-align: middle;\n",
       "    }\n",
       "\n",
       "    .dataframe tbody tr th {\n",
       "        vertical-align: top;\n",
       "    }\n",
       "\n",
       "    .dataframe thead th {\n",
       "        text-align: right;\n",
       "    }\n",
       "</style>\n",
       "<table border=\"1\" class=\"dataframe\">\n",
       "  <thead>\n",
       "    <tr style=\"text-align: right;\">\n",
       "      <th></th>\n",
       "      <th>Rank</th>\n",
       "      <th>Major_code</th>\n",
       "      <th>Major</th>\n",
       "      <th>Total</th>\n",
       "      <th>Men</th>\n",
       "      <th>Women</th>\n",
       "      <th>Major_category</th>\n",
       "      <th>ShareWomen</th>\n",
       "      <th>Sample_size</th>\n",
       "      <th>Employed</th>\n",
       "      <th>Full_time</th>\n",
       "      <th>Part_time</th>\n",
       "      <th>Full_time_year_round</th>\n",
       "      <th>Unemployed</th>\n",
       "      <th>Unemployment_rate</th>\n",
       "      <th>Median</th>\n",
       "      <th>P25th</th>\n",
       "      <th>P75th</th>\n",
       "      <th>College_jobs</th>\n",
       "      <th>Non_college_jobs</th>\n",
       "      <th>Low_wage_jobs</th>\n",
       "    </tr>\n",
       "  </thead>\n",
       "  <tbody>\n",
       "    <tr>\n",
       "      <th>0</th>\n",
       "      <td>1</td>\n",
       "      <td>2419</td>\n",
       "      <td>PETROLEUM ENGINEERING</td>\n",
       "      <td>2339.0</td>\n",
       "      <td>2057.0</td>\n",
       "      <td>282.0</td>\n",
       "      <td>Engineering</td>\n",
       "      <td>0.120564</td>\n",
       "      <td>36</td>\n",
       "      <td>1976</td>\n",
       "      <td>1849</td>\n",
       "      <td>270</td>\n",
       "      <td>1207</td>\n",
       "      <td>37</td>\n",
       "      <td>0.018381</td>\n",
       "      <td>110000</td>\n",
       "      <td>95000</td>\n",
       "      <td>125000</td>\n",
       "      <td>1534</td>\n",
       "      <td>364</td>\n",
       "      <td>193</td>\n",
       "    </tr>\n",
       "    <tr>\n",
       "      <th>1</th>\n",
       "      <td>2</td>\n",
       "      <td>2416</td>\n",
       "      <td>MINING AND MINERAL ENGINEERING</td>\n",
       "      <td>756.0</td>\n",
       "      <td>679.0</td>\n",
       "      <td>77.0</td>\n",
       "      <td>Engineering</td>\n",
       "      <td>0.101852</td>\n",
       "      <td>7</td>\n",
       "      <td>640</td>\n",
       "      <td>556</td>\n",
       "      <td>170</td>\n",
       "      <td>388</td>\n",
       "      <td>85</td>\n",
       "      <td>0.117241</td>\n",
       "      <td>75000</td>\n",
       "      <td>55000</td>\n",
       "      <td>90000</td>\n",
       "      <td>350</td>\n",
       "      <td>257</td>\n",
       "      <td>50</td>\n",
       "    </tr>\n",
       "    <tr>\n",
       "      <th>2</th>\n",
       "      <td>3</td>\n",
       "      <td>2415</td>\n",
       "      <td>METALLURGICAL ENGINEERING</td>\n",
       "      <td>856.0</td>\n",
       "      <td>725.0</td>\n",
       "      <td>131.0</td>\n",
       "      <td>Engineering</td>\n",
       "      <td>0.153037</td>\n",
       "      <td>3</td>\n",
       "      <td>648</td>\n",
       "      <td>558</td>\n",
       "      <td>133</td>\n",
       "      <td>340</td>\n",
       "      <td>16</td>\n",
       "      <td>0.024096</td>\n",
       "      <td>73000</td>\n",
       "      <td>50000</td>\n",
       "      <td>105000</td>\n",
       "      <td>456</td>\n",
       "      <td>176</td>\n",
       "      <td>0</td>\n",
       "    </tr>\n",
       "    <tr>\n",
       "      <th>3</th>\n",
       "      <td>4</td>\n",
       "      <td>2417</td>\n",
       "      <td>NAVAL ARCHITECTURE AND MARINE ENGINEERING</td>\n",
       "      <td>1258.0</td>\n",
       "      <td>1123.0</td>\n",
       "      <td>135.0</td>\n",
       "      <td>Engineering</td>\n",
       "      <td>0.107313</td>\n",
       "      <td>16</td>\n",
       "      <td>758</td>\n",
       "      <td>1069</td>\n",
       "      <td>150</td>\n",
       "      <td>692</td>\n",
       "      <td>40</td>\n",
       "      <td>0.050125</td>\n",
       "      <td>70000</td>\n",
       "      <td>43000</td>\n",
       "      <td>80000</td>\n",
       "      <td>529</td>\n",
       "      <td>102</td>\n",
       "      <td>0</td>\n",
       "    </tr>\n",
       "    <tr>\n",
       "      <th>4</th>\n",
       "      <td>5</td>\n",
       "      <td>2405</td>\n",
       "      <td>CHEMICAL ENGINEERING</td>\n",
       "      <td>32260.0</td>\n",
       "      <td>21239.0</td>\n",
       "      <td>11021.0</td>\n",
       "      <td>Engineering</td>\n",
       "      <td>0.341631</td>\n",
       "      <td>289</td>\n",
       "      <td>25694</td>\n",
       "      <td>23170</td>\n",
       "      <td>5180</td>\n",
       "      <td>16697</td>\n",
       "      <td>1672</td>\n",
       "      <td>0.061098</td>\n",
       "      <td>65000</td>\n",
       "      <td>50000</td>\n",
       "      <td>75000</td>\n",
       "      <td>18314</td>\n",
       "      <td>4440</td>\n",
       "      <td>972</td>\n",
       "    </tr>\n",
       "  </tbody>\n",
       "</table>\n",
       "</div>"
      ],
      "text/plain": [
       "   Rank  Major_code                                      Major    Total  \\\n",
       "0     1        2419                      PETROLEUM ENGINEERING   2339.0   \n",
       "1     2        2416             MINING AND MINERAL ENGINEERING    756.0   \n",
       "2     3        2415                  METALLURGICAL ENGINEERING    856.0   \n",
       "3     4        2417  NAVAL ARCHITECTURE AND MARINE ENGINEERING   1258.0   \n",
       "4     5        2405                       CHEMICAL ENGINEERING  32260.0   \n",
       "\n",
       "       Men    Women Major_category  ShareWomen  Sample_size  Employed  \\\n",
       "0   2057.0    282.0    Engineering    0.120564           36      1976   \n",
       "1    679.0     77.0    Engineering    0.101852            7       640   \n",
       "2    725.0    131.0    Engineering    0.153037            3       648   \n",
       "3   1123.0    135.0    Engineering    0.107313           16       758   \n",
       "4  21239.0  11021.0    Engineering    0.341631          289     25694   \n",
       "\n",
       "   Full_time  Part_time  Full_time_year_round  Unemployed  Unemployment_rate  \\\n",
       "0       1849        270                  1207          37           0.018381   \n",
       "1        556        170                   388          85           0.117241   \n",
       "2        558        133                   340          16           0.024096   \n",
       "3       1069        150                   692          40           0.050125   \n",
       "4      23170       5180                 16697        1672           0.061098   \n",
       "\n",
       "   Median  P25th   P75th  College_jobs  Non_college_jobs  Low_wage_jobs  \n",
       "0  110000  95000  125000          1534               364            193  \n",
       "1   75000  55000   90000           350               257             50  \n",
       "2   73000  50000  105000           456               176              0  \n",
       "3   70000  43000   80000           529               102              0  \n",
       "4   65000  50000   75000         18314              4440            972  "
      ]
     },
     "execution_count": 4,
     "metadata": {},
     "output_type": "execute_result"
    }
   ],
   "source": [
    "pd.set_option(\"display.max.columns\", None)\n",
    "df.head()"
   ]
  },
  {
   "cell_type": "code",
   "execution_count": 5,
   "metadata": {},
   "outputs": [
    {
     "name": "stdout",
     "output_type": "stream",
     "text": [
      "Shape of data is  (173, 21)\n"
     ]
    }
   ],
   "source": [
    "print(\"Shape of data is \" , df.shape)"
   ]
  },
  {
   "cell_type": "markdown",
   "metadata": {},
   "source": [
    "Our dataset contains some columns related to the earnings of graduates in each major:\n",
    "- \"Median\" is the median earnings of full-time, year-round workers.\n",
    "- \"P25th\" is the 25th percentile of earnings.\n",
    "- \"P75th\" is the 75th percentile of earnings.\n",
    "- \"Rank\" is the major’s rank by median earnings."
   ]
  },
  {
   "cell_type": "code",
   "execution_count": 6,
   "metadata": {},
   "outputs": [
    {
     "data": {
      "text/plain": [
       "<matplotlib.axes._subplots.AxesSubplot at 0x23355d47348>"
      ]
     },
     "execution_count": 6,
     "metadata": {},
     "output_type": "execute_result"
    },
    {
     "data": {
      "image/png": "[encoded data removed]",
      "text/plain": [
       "<Figure size 432x288 with 1 Axes>"
      ]
     },
     "metadata": {
      "needs_background": "light"
     },
     "output_type": "display_data"
    }
   ],
   "source": [
    "df.plot(x=\"Rank\", y=[\"P25th\", \"Median\", \"P75th\"])"
   ]
  },
  {
   "cell_type": "markdown",
   "metadata": {},
   "source": [
    ".plot() returns a line graph containing data from every row in the DataFrame. The x-axis values represent the rank of each institution, and the \"P25th\", \"Median\", and \"P75th\" values are plotted on the y-axis."
   ]
  },
  {
   "cell_type": "markdown",
   "metadata": {},
   "source": [
    ".plot() has several optional parameters. Most notably, the kind parameter accepts eleven different string values and determines which kind of plot you’ll create:\n",
    "- \"area\" is for area plots.\n",
    "- \"bar\" is for vertical bar charts.\n",
    "- \"barh\" is for horizontal bar charts.\n",
    "- \"box\" is for box plots.\n",
    "- \"hexbin\" is for hexbin plots.\n",
    "- \"hist\" is for histograms.\n",
    "- \"kde\" is for kernel density estimate charts.\n",
    "- \"density\" is an alias for \"kde\".\n",
    "- \"line\" is for line graphs.\n",
    "- \"pie\" is for pie charts.\n",
    "- \"scatter\" is for scatter plots. "
   ]
  },
  {
   "cell_type": "markdown",
   "metadata": {},
   "source": [
    "Looking at the plot, you can make the following observations:\n",
    "\n",
    "- The median income decreases as rank decreases. This is expected because the rank is determined by the median income.\n",
    "\n",
    "- Some majors have large gaps between the 25th and 75th percentiles. People with these degrees may earn significantly less or significantly more than the median income.\n",
    "\n",
    "- Other majors have very small gaps between the 25th and 75th percentiles. People with these degrees earn salaries very close to the median income."
   ]
  },
  {
   "cell_type": "markdown",
   "metadata": {},
   "source": [
    "## Look Under the Hood: Matplotlib"
   ]
  },
  {
   "cell_type": "markdown",
   "metadata": {},
   "source": [
    "When you call .plot() on a DataFrame object, Matplotlib creates the plot under the hood. \n",
    "To verify this, try out two code snippets. First, create a plot with Matplotlib using two columns of your DataFrame:"
   ]
  },
  {
   "cell_type": "code",
   "execution_count": 23,
   "metadata": {},
   "outputs": [
    {
     "data": {
      "text/plain": [
       "Text(0, 0.5, '75th percentile of earnings')"
      ]
     },
     "execution_count": 23,
     "metadata": {},
     "output_type": "execute_result"
    },
    {
     "data": {
      "image/png": "[encoded data removed]",
      "text/plain": [
       "<Figure size 432x288 with 1 Axes>"
      ]
     },
     "metadata": {
      "needs_background": "light"
     },
     "output_type": "display_data"
    }
   ],
   "source": [
    "import matplotlib.pyplot as plt\n",
    "x = df[\"Rank\"]\n",
    "y= df[\"P75th\"]\n",
    "plt.plot(x, y)\n",
    "plt.xlabel(\"Rank\")\n",
    "plt.ylabel(\"75th percentile of earnings\")"
   ]
  },
  {
   "cell_type": "markdown",
   "metadata": {},
   "source": [
    "First, you import the matplotlib.pyplot module and rename it to plt. Then you call plot() and pass the DataFrame object’s \"Rank\" column as the first argument and the \"P75th\" column as the second argument. The result is a line graph that plots the 75th percentile on the y-axis against the rank on the x-axis:"
   ]
  },
  {
   "cell_type": "code",
   "execution_count": 8,
   "metadata": {},
   "outputs": [
    {
     "data": {
      "text/plain": [
       "<matplotlib.axes._subplots.AxesSubplot at 0x233574f5388>"
      ]
     },
     "execution_count": 8,
     "metadata": {},
     "output_type": "execute_result"
    },
    {
     "data": {
      "image/png": "[encoded data removed]",
      "text/plain": [
       "<Figure size 432x288 with 1 Axes>"
      ]
     },
     "metadata": {
      "needs_background": "light"
     },
     "output_type": "display_data"
    }
   ],
   "source": [
    "df.plot(x=\"Rank\", y=\"P75th\")"
   ]
  },
  {
   "cell_type": "markdown",
   "metadata": {},
   "source": [
    ".plot() is a wrapper for pyplot.plot(), and the result is a graph identical to the one you produced with Matplotlib. You can use both pyplot.plot() and df.plot() to produce the same graph from columns of a DataFrame object. However, if you already have a DataFrame instance, then df.plot() offers cleaner syntax than pyplot.plot()."
   ]
  },
  {
   "cell_type": "markdown",
   "metadata": {},
   "source": [
    "## Distributions and Histograms"
   ]
  },
  {
   "cell_type": "code",
   "execution_count": 9,
   "metadata": {},
   "outputs": [
    {
     "data": {
      "text/plain": [
       "Text(0.5, 0, 'Median Salary')"
      ]
     },
     "execution_count": 9,
     "metadata": {},
     "output_type": "execute_result"
    },
    {
     "data": {
      "image/png": "[encoded data removed]",
      "text/plain": [
       "<Figure size 432x288 with 1 Axes>"
      ]
     },
     "metadata": {
      "needs_background": "light"
     },
     "output_type": "display_data"
    }
   ],
   "source": [
    "median_column = df[\"Median\"]\n",
    "median_column.plot(kind=\"hist\")\n",
    "plt.xlabel(\"Median Salary\")"
   ]
  },
  {
   "cell_type": "markdown",
   "metadata": {},
   "source": [
    "- The histogram shows the data grouped into ten bins ranging from  dollar 20,000,  to  dollar 120,000, and each bin has a width of $10,000. \n",
    "- The histogram has a different shape than the normal distribution, which has a symmetric bell shape with a peak in the middle.\n"
   ]
  },
  {
   "cell_type": "markdown",
   "metadata": {},
   "source": [
    "- The histogram of the median data, however, peaks on the left below $40,000.\n",
    "- The tail stretches far to the right and suggests that there are indeed fields whose majors can expect significantly higher earnings.\n",
    "\n"
   ]
  },
  {
   "cell_type": "markdown",
   "metadata": {},
   "source": [
    "## Outliers"
   ]
  },
  {
   "cell_type": "markdown",
   "metadata": {},
   "source": [
    "Have you spotted that lonely small bin on the right edge of the distribution? It seems that one data point has its own category. The majors in this field get an excellent salary compared not only to the average but also to the runner-up. Although this isn’t its main purpose, a histogram can help you to detect such an outlier. Let’s investigate the outlier a bit more\n",
    "\n",
    "- Which majors does this outlier represent?\n",
    "- How big is its edge?\n",
    "\n",
    "You’ll need two steps:\n",
    "\n",
    "- To sort by the \"Median\" column, use .sort_values() and provide the name of the column you want to sort by as well as the direction ascending=False.\n",
    "- To get the top five items of your list, use .head()."
   ]
  },
  {
   "cell_type": "code",
   "execution_count": 10,
   "metadata": {},
   "outputs": [],
   "source": [
    "#Let’s create a new DataFrame called top_5:\n",
    "top_5 = df.sort_values(by=\"Median\", ascending=False).head()"
   ]
  },
  {
   "cell_type": "code",
   "execution_count": 11,
   "metadata": {},
   "outputs": [
    {
     "data": {
      "text/html": [
       "<div>\n",
       "<style scoped>\n",
       "    .dataframe tbody tr th:only-of-type {\n",
       "        vertical-align: middle;\n",
       "    }\n",
       "\n",
       "    .dataframe tbody tr th {\n",
       "        vertical-align: top;\n",
       "    }\n",
       "\n",
       "    .dataframe thead th {\n",
       "        text-align: right;\n",
       "    }\n",
       "</style>\n",
       "<table border=\"1\" class=\"dataframe\">\n",
       "  <thead>\n",
       "    <tr style=\"text-align: right;\">\n",
       "      <th></th>\n",
       "      <th>Rank</th>\n",
       "      <th>Major_code</th>\n",
       "      <th>Major</th>\n",
       "      <th>Total</th>\n",
       "      <th>Men</th>\n",
       "      <th>Women</th>\n",
       "      <th>Major_category</th>\n",
       "      <th>ShareWomen</th>\n",
       "      <th>Sample_size</th>\n",
       "      <th>Employed</th>\n",
       "      <th>Full_time</th>\n",
       "      <th>Part_time</th>\n",
       "      <th>Full_time_year_round</th>\n",
       "      <th>Unemployed</th>\n",
       "      <th>Unemployment_rate</th>\n",
       "      <th>Median</th>\n",
       "      <th>P25th</th>\n",
       "      <th>P75th</th>\n",
       "      <th>College_jobs</th>\n",
       "      <th>Non_college_jobs</th>\n",
       "      <th>Low_wage_jobs</th>\n",
       "    </tr>\n",
       "  </thead>\n",
       "  <tbody>\n",
       "    <tr>\n",
       "      <th>0</th>\n",
       "      <td>1</td>\n",
       "      <td>2419</td>\n",
       "      <td>PETROLEUM ENGINEERING</td>\n",
       "      <td>2339.0</td>\n",
       "      <td>2057.0</td>\n",
       "      <td>282.0</td>\n",
       "      <td>Engineering</td>\n",
       "      <td>0.120564</td>\n",
       "      <td>36</td>\n",
       "      <td>1976</td>\n",
       "      <td>1849</td>\n",
       "      <td>270</td>\n",
       "      <td>1207</td>\n",
       "      <td>37</td>\n",
       "      <td>0.018381</td>\n",
       "      <td>110000</td>\n",
       "      <td>95000</td>\n",
       "      <td>125000</td>\n",
       "      <td>1534</td>\n",
       "      <td>364</td>\n",
       "      <td>193</td>\n",
       "    </tr>\n",
       "    <tr>\n",
       "      <th>1</th>\n",
       "      <td>2</td>\n",
       "      <td>2416</td>\n",
       "      <td>MINING AND MINERAL ENGINEERING</td>\n",
       "      <td>756.0</td>\n",
       "      <td>679.0</td>\n",
       "      <td>77.0</td>\n",
       "      <td>Engineering</td>\n",
       "      <td>0.101852</td>\n",
       "      <td>7</td>\n",
       "      <td>640</td>\n",
       "      <td>556</td>\n",
       "      <td>170</td>\n",
       "      <td>388</td>\n",
       "      <td>85</td>\n",
       "      <td>0.117241</td>\n",
       "      <td>75000</td>\n",
       "      <td>55000</td>\n",
       "      <td>90000</td>\n",
       "      <td>350</td>\n",
       "      <td>257</td>\n",
       "      <td>50</td>\n",
       "    </tr>\n",
       "    <tr>\n",
       "      <th>2</th>\n",
       "      <td>3</td>\n",
       "      <td>2415</td>\n",
       "      <td>METALLURGICAL ENGINEERING</td>\n",
       "      <td>856.0</td>\n",
       "      <td>725.0</td>\n",
       "      <td>131.0</td>\n",
       "      <td>Engineering</td>\n",
       "      <td>0.153037</td>\n",
       "      <td>3</td>\n",
       "      <td>648</td>\n",
       "      <td>558</td>\n",
       "      <td>133</td>\n",
       "      <td>340</td>\n",
       "      <td>16</td>\n",
       "      <td>0.024096</td>\n",
       "      <td>73000</td>\n",
       "      <td>50000</td>\n",
       "      <td>105000</td>\n",
       "      <td>456</td>\n",
       "      <td>176</td>\n",
       "      <td>0</td>\n",
       "    </tr>\n",
       "    <tr>\n",
       "      <th>3</th>\n",
       "      <td>4</td>\n",
       "      <td>2417</td>\n",
       "      <td>NAVAL ARCHITECTURE AND MARINE ENGINEERING</td>\n",
       "      <td>1258.0</td>\n",
       "      <td>1123.0</td>\n",
       "      <td>135.0</td>\n",
       "      <td>Engineering</td>\n",
       "      <td>0.107313</td>\n",
       "      <td>16</td>\n",
       "      <td>758</td>\n",
       "      <td>1069</td>\n",
       "      <td>150</td>\n",
       "      <td>692</td>\n",
       "      <td>40</td>\n",
       "      <td>0.050125</td>\n",
       "      <td>70000</td>\n",
       "      <td>43000</td>\n",
       "      <td>80000</td>\n",
       "      <td>529</td>\n",
       "      <td>102</td>\n",
       "      <td>0</td>\n",
       "    </tr>\n",
       "    <tr>\n",
       "      <th>4</th>\n",
       "      <td>5</td>\n",
       "      <td>2405</td>\n",
       "      <td>CHEMICAL ENGINEERING</td>\n",
       "      <td>32260.0</td>\n",
       "      <td>21239.0</td>\n",
       "      <td>11021.0</td>\n",
       "      <td>Engineering</td>\n",
       "      <td>0.341631</td>\n",
       "      <td>289</td>\n",
       "      <td>25694</td>\n",
       "      <td>23170</td>\n",
       "      <td>5180</td>\n",
       "      <td>16697</td>\n",
       "      <td>1672</td>\n",
       "      <td>0.061098</td>\n",
       "      <td>65000</td>\n",
       "      <td>50000</td>\n",
       "      <td>75000</td>\n",
       "      <td>18314</td>\n",
       "      <td>4440</td>\n",
       "      <td>972</td>\n",
       "    </tr>\n",
       "  </tbody>\n",
       "</table>\n",
       "</div>"
      ],
      "text/plain": [
       "   Rank  Major_code                                      Major    Total  \\\n",
       "0     1        2419                      PETROLEUM ENGINEERING   2339.0   \n",
       "1     2        2416             MINING AND MINERAL ENGINEERING    756.0   \n",
       "2     3        2415                  METALLURGICAL ENGINEERING    856.0   \n",
       "3     4        2417  NAVAL ARCHITECTURE AND MARINE ENGINEERING   1258.0   \n",
       "4     5        2405                       CHEMICAL ENGINEERING  32260.0   \n",
       "\n",
       "       Men    Women Major_category  ShareWomen  Sample_size  Employed  \\\n",
       "0   2057.0    282.0    Engineering    0.120564           36      1976   \n",
       "1    679.0     77.0    Engineering    0.101852            7       640   \n",
       "2    725.0    131.0    Engineering    0.153037            3       648   \n",
       "3   1123.0    135.0    Engineering    0.107313           16       758   \n",
       "4  21239.0  11021.0    Engineering    0.341631          289     25694   \n",
       "\n",
       "   Full_time  Part_time  Full_time_year_round  Unemployed  Unemployment_rate  \\\n",
       "0       1849        270                  1207          37           0.018381   \n",
       "1        556        170                   388          85           0.117241   \n",
       "2        558        133                   340          16           0.024096   \n",
       "3       1069        150                   692          40           0.050125   \n",
       "4      23170       5180                 16697        1672           0.061098   \n",
       "\n",
       "   Median  P25th   P75th  College_jobs  Non_college_jobs  Low_wage_jobs  \n",
       "0  110000  95000  125000          1534               364            193  \n",
       "1   75000  55000   90000           350               257             50  \n",
       "2   73000  50000  105000           456               176              0  \n",
       "3   70000  43000   80000           529               102              0  \n",
       "4   65000  50000   75000         18314              4440            972  "
      ]
     },
     "execution_count": 11,
     "metadata": {},
     "output_type": "execute_result"
    }
   ],
   "source": [
    "top_5"
   ]
  },
  {
   "cell_type": "markdown",
   "metadata": {},
   "source": [
    "Now you have a smaller DataFrame containing only the top five most lucrative majors. As a next step, you can create a bar plot that shows only the majors with these top five median salaries:\n",
    "\n"
   ]
  },
  {
   "cell_type": "code",
   "execution_count": 12,
   "metadata": {},
   "outputs": [
    {
     "data": {
      "text/plain": [
       "Text(0, 0.5, 'Majors')"
      ]
     },
     "execution_count": 12,
     "metadata": {},
     "output_type": "execute_result"
    },
    {
     "data": {
      "image/png": "[encoded data removed]",
      "text/plain": [
       "<Figure size 720x432 with 1 Axes>"
      ]
     },
     "metadata": {
      "needs_background": "light"
     },
     "output_type": "display_data"
    }
   ],
   "source": [
    "top_5.plot(x=\"Major\", y=\"Median\", kind=\"bar\", rot=5, fontsize=4,linewidth=2,figsize=(10,6))\n",
    "plt.xticks(fontsize = 7.5)\n",
    "plt.yticks(fontsize = 10)\n",
    "plt.xlabel(\"Median Salary\")\n",
    "plt.ylabel(\"Majors\")"
   ]
  },
  {
   "cell_type": "markdown",
   "metadata": {},
   "source": [
    "- This plot shows that the median salary of petroleum engineering majors is more than $20,000 higher than the rest. The earnings for the second- through fourth-place majors are relatively close to one another."
   ]
  },
  {
   "cell_type": "markdown",
   "metadata": {},
   "source": [
    "- Let’s investigate all majors whose median salary is above $60,000. First, you need to filter these majors with the mask df[df[\"Median\"] > 60000]. Then you can create another bar plot showing all three earnings columns:"
   ]
  },
  {
   "cell_type": "code",
   "execution_count": 13,
   "metadata": {},
   "outputs": [
    {
     "data": {
      "text/plain": [
       "<matplotlib.axes._subplots.AxesSubplot at 0x233576a2a88>"
      ]
     },
     "execution_count": 13,
     "metadata": {},
     "output_type": "execute_result"
    },
    {
     "data": {
      "image/png": "[encoded data removed]",
      "text/plain": [
       "<Figure size 576x432 with 1 Axes>"
      ]
     },
     "metadata": {
      "needs_background": "light"
     },
     "output_type": "display_data"
    }
   ],
   "source": [
    "# filter all majors with median > $60,000\n",
    "top_medians = df[df[\"Median\"] > 60000].sort_values(\"Median\")\n",
    "# bar plot showing all three earnings columns \n",
    "top_medians.plot(x=\"Major\", y=[\"P25th\", \"Median\", \"P75th\"], kind=\"bar\",figsize=(8,6))"
   ]
  },
  {
   "cell_type": "markdown",
   "metadata": {},
   "source": [
    "The 25th and 75th percentile confirm what you’ve seen above: petroleum engineering majors were by far the best paid recent graduates.But question still remains about Outliers. \n"
   ]
  },
  {
   "cell_type": "markdown",
   "metadata": {},
   "source": [
    "## Solution : Check for Co-relation"
   ]
  },
  {
   "cell_type": "code",
   "execution_count": 19,
   "metadata": {},
   "outputs": [
    {
     "data": {
      "text/html": [
       "<div>\n",
       "<style scoped>\n",
       "    .dataframe tbody tr th:only-of-type {\n",
       "        vertical-align: middle;\n",
       "    }\n",
       "\n",
       "    .dataframe tbody tr th {\n",
       "        vertical-align: top;\n",
       "    }\n",
       "\n",
       "    .dataframe thead th {\n",
       "        text-align: right;\n",
       "    }\n",
       "</style>\n",
       "<table border=\"1\" class=\"dataframe\">\n",
       "  <thead>\n",
       "    <tr style=\"text-align: right;\">\n",
       "      <th></th>\n",
       "      <th>Rank</th>\n",
       "      <th>Major_code</th>\n",
       "      <th>Total</th>\n",
       "      <th>Men</th>\n",
       "      <th>Women</th>\n",
       "      <th>ShareWomen</th>\n",
       "      <th>Sample_size</th>\n",
       "      <th>Employed</th>\n",
       "      <th>Full_time</th>\n",
       "      <th>Part_time</th>\n",
       "      <th>Full_time_year_round</th>\n",
       "      <th>Unemployed</th>\n",
       "      <th>Unemployment_rate</th>\n",
       "      <th>Median</th>\n",
       "      <th>P25th</th>\n",
       "      <th>P75th</th>\n",
       "      <th>College_jobs</th>\n",
       "      <th>Non_college_jobs</th>\n",
       "      <th>Low_wage_jobs</th>\n",
       "    </tr>\n",
       "  </thead>\n",
       "  <tbody>\n",
       "    <tr>\n",
       "      <th>Rank</th>\n",
       "      <td>1.000000</td>\n",
       "      <td>0.108429</td>\n",
       "      <td>0.071137</td>\n",
       "      <td>-0.094780</td>\n",
       "      <td>0.174913</td>\n",
       "      <td>0.643781</td>\n",
       "      <td>0.008492</td>\n",
       "      <td>0.070751</td>\n",
       "      <td>0.034725</td>\n",
       "      <td>0.193174</td>\n",
       "      <td>0.020418</td>\n",
       "      <td>0.090078</td>\n",
       "      <td>0.068900</td>\n",
       "      <td>-0.873308</td>\n",
       "      <td>-0.735688</td>\n",
       "      <td>-0.802686</td>\n",
       "      <td>0.052639</td>\n",
       "      <td>0.144689</td>\n",
       "      <td>0.202920</td>\n",
       "    </tr>\n",
       "    <tr>\n",
       "      <th>Major_code</th>\n",
       "      <td>0.108429</td>\n",
       "      <td>1.000000</td>\n",
       "      <td>0.196784</td>\n",
       "      <td>0.179299</td>\n",
       "      <td>0.181459</td>\n",
       "      <td>0.259211</td>\n",
       "      <td>0.206580</td>\n",
       "      <td>0.200925</td>\n",
       "      <td>0.199397</td>\n",
       "      <td>0.195184</td>\n",
       "      <td>0.205634</td>\n",
       "      <td>0.223418</td>\n",
       "      <td>0.126603</td>\n",
       "      <td>-0.176072</td>\n",
       "      <td>-0.166864</td>\n",
       "      <td>-0.094556</td>\n",
       "      <td>0.041198</td>\n",
       "      <td>0.232425</td>\n",
       "      <td>0.225294</td>\n",
       "    </tr>\n",
       "    <tr>\n",
       "      <th>Total</th>\n",
       "      <td>0.071137</td>\n",
       "      <td>0.196784</td>\n",
       "      <td>1.000000</td>\n",
       "      <td>0.878088</td>\n",
       "      <td>0.944764</td>\n",
       "      <td>0.142999</td>\n",
       "      <td>0.945575</td>\n",
       "      <td>0.996214</td>\n",
       "      <td>0.989339</td>\n",
       "      <td>0.950268</td>\n",
       "      <td>0.981112</td>\n",
       "      <td>0.974768</td>\n",
       "      <td>0.083192</td>\n",
       "      <td>-0.106738</td>\n",
       "      <td>-0.071926</td>\n",
       "      <td>-0.083198</td>\n",
       "      <td>0.800465</td>\n",
       "      <td>0.941247</td>\n",
       "      <td>0.935510</td>\n",
       "    </tr>\n",
       "    <tr>\n",
       "      <th>Men</th>\n",
       "      <td>-0.094780</td>\n",
       "      <td>0.179299</td>\n",
       "      <td>0.878088</td>\n",
       "      <td>1.000000</td>\n",
       "      <td>0.672759</td>\n",
       "      <td>-0.112014</td>\n",
       "      <td>0.875176</td>\n",
       "      <td>0.870605</td>\n",
       "      <td>0.893563</td>\n",
       "      <td>0.751592</td>\n",
       "      <td>0.892454</td>\n",
       "      <td>0.869411</td>\n",
       "      <td>0.101502</td>\n",
       "      <td>0.025991</td>\n",
       "      <td>0.038725</td>\n",
       "      <td>0.052393</td>\n",
       "      <td>0.563168</td>\n",
       "      <td>0.851500</td>\n",
       "      <td>0.791336</td>\n",
       "    </tr>\n",
       "    <tr>\n",
       "      <th>Women</th>\n",
       "      <td>0.174913</td>\n",
       "      <td>0.181459</td>\n",
       "      <td>0.944764</td>\n",
       "      <td>0.672759</td>\n",
       "      <td>1.000000</td>\n",
       "      <td>0.297832</td>\n",
       "      <td>0.862606</td>\n",
       "      <td>0.944037</td>\n",
       "      <td>0.917681</td>\n",
       "      <td>0.954513</td>\n",
       "      <td>0.905720</td>\n",
       "      <td>0.911694</td>\n",
       "      <td>0.059108</td>\n",
       "      <td>-0.182842</td>\n",
       "      <td>-0.137738</td>\n",
       "      <td>-0.164528</td>\n",
       "      <td>0.851946</td>\n",
       "      <td>0.872132</td>\n",
       "      <td>0.904470</td>\n",
       "    </tr>\n",
       "    <tr>\n",
       "      <th>ShareWomen</th>\n",
       "      <td>0.643781</td>\n",
       "      <td>0.259211</td>\n",
       "      <td>0.142999</td>\n",
       "      <td>-0.112014</td>\n",
       "      <td>0.297832</td>\n",
       "      <td>1.000000</td>\n",
       "      <td>0.097496</td>\n",
       "      <td>0.147547</td>\n",
       "      <td>0.120200</td>\n",
       "      <td>0.212290</td>\n",
       "      <td>0.112523</td>\n",
       "      <td>0.121243</td>\n",
       "      <td>0.073205</td>\n",
       "      <td>-0.618690</td>\n",
       "      <td>-0.500199</td>\n",
       "      <td>-0.586932</td>\n",
       "      <td>0.195550</td>\n",
       "      <td>0.137007</td>\n",
       "      <td>0.187850</td>\n",
       "    </tr>\n",
       "    <tr>\n",
       "      <th>Sample_size</th>\n",
       "      <td>0.008492</td>\n",
       "      <td>0.206580</td>\n",
       "      <td>0.945575</td>\n",
       "      <td>0.875176</td>\n",
       "      <td>0.862606</td>\n",
       "      <td>0.097496</td>\n",
       "      <td>1.000000</td>\n",
       "      <td>0.964462</td>\n",
       "      <td>0.978396</td>\n",
       "      <td>0.824824</td>\n",
       "      <td>0.985235</td>\n",
       "      <td>0.918059</td>\n",
       "      <td>0.059872</td>\n",
       "      <td>-0.067578</td>\n",
       "      <td>-0.025229</td>\n",
       "      <td>-0.055737</td>\n",
       "      <td>0.701704</td>\n",
       "      <td>0.915464</td>\n",
       "      <td>0.860319</td>\n",
       "    </tr>\n",
       "    <tr>\n",
       "      <th>Employed</th>\n",
       "      <td>0.070751</td>\n",
       "      <td>0.200925</td>\n",
       "      <td>0.996214</td>\n",
       "      <td>0.870605</td>\n",
       "      <td>0.944037</td>\n",
       "      <td>0.147547</td>\n",
       "      <td>0.964462</td>\n",
       "      <td>1.000000</td>\n",
       "      <td>0.995838</td>\n",
       "      <td>0.934528</td>\n",
       "      <td>0.991047</td>\n",
       "      <td>0.968900</td>\n",
       "      <td>0.068056</td>\n",
       "      <td>-0.107547</td>\n",
       "      <td>-0.067514</td>\n",
       "      <td>-0.087560</td>\n",
       "      <td>0.797534</td>\n",
       "      <td>0.941326</td>\n",
       "      <td>0.927224</td>\n",
       "    </tr>\n",
       "    <tr>\n",
       "      <th>Full_time</th>\n",
       "      <td>0.034725</td>\n",
       "      <td>0.199397</td>\n",
       "      <td>0.989339</td>\n",
       "      <td>0.893563</td>\n",
       "      <td>0.917681</td>\n",
       "      <td>0.120200</td>\n",
       "      <td>0.978396</td>\n",
       "      <td>0.995838</td>\n",
       "      <td>1.000000</td>\n",
       "      <td>0.900877</td>\n",
       "      <td>0.998203</td>\n",
       "      <td>0.960102</td>\n",
       "      <td>0.063349</td>\n",
       "      <td>-0.082258</td>\n",
       "      <td>-0.042957</td>\n",
       "      <td>-0.065073</td>\n",
       "      <td>0.772515</td>\n",
       "      <td>0.933124</td>\n",
       "      <td>0.904852</td>\n",
       "    </tr>\n",
       "    <tr>\n",
       "      <th>Part_time</th>\n",
       "      <td>0.193174</td>\n",
       "      <td>0.195184</td>\n",
       "      <td>0.950268</td>\n",
       "      <td>0.751592</td>\n",
       "      <td>0.954513</td>\n",
       "      <td>0.212290</td>\n",
       "      <td>0.824824</td>\n",
       "      <td>0.934528</td>\n",
       "      <td>0.900877</td>\n",
       "      <td>1.000000</td>\n",
       "      <td>0.880855</td>\n",
       "      <td>0.945094</td>\n",
       "      <td>0.108944</td>\n",
       "      <td>-0.190124</td>\n",
       "      <td>-0.153509</td>\n",
       "      <td>-0.158220</td>\n",
       "      <td>0.804987</td>\n",
       "      <td>0.909634</td>\n",
       "      <td>0.951593</td>\n",
       "    </tr>\n",
       "    <tr>\n",
       "      <th>Full_time_year_round</th>\n",
       "      <td>0.020418</td>\n",
       "      <td>0.205634</td>\n",
       "      <td>0.981112</td>\n",
       "      <td>0.892454</td>\n",
       "      <td>0.905720</td>\n",
       "      <td>0.112523</td>\n",
       "      <td>0.985235</td>\n",
       "      <td>0.991047</td>\n",
       "      <td>0.998203</td>\n",
       "      <td>0.880855</td>\n",
       "      <td>1.000000</td>\n",
       "      <td>0.950711</td>\n",
       "      <td>0.057171</td>\n",
       "      <td>-0.072982</td>\n",
       "      <td>-0.033034</td>\n",
       "      <td>-0.056932</td>\n",
       "      <td>0.755254</td>\n",
       "      <td>0.928874</td>\n",
       "      <td>0.892847</td>\n",
       "    </tr>\n",
       "    <tr>\n",
       "      <th>Unemployed</th>\n",
       "      <td>0.090078</td>\n",
       "      <td>0.223418</td>\n",
       "      <td>0.974768</td>\n",
       "      <td>0.869411</td>\n",
       "      <td>0.911694</td>\n",
       "      <td>0.121243</td>\n",
       "      <td>0.918059</td>\n",
       "      <td>0.968900</td>\n",
       "      <td>0.960102</td>\n",
       "      <td>0.945094</td>\n",
       "      <td>0.950711</td>\n",
       "      <td>1.000000</td>\n",
       "      <td>0.165282</td>\n",
       "      <td>-0.126386</td>\n",
       "      <td>-0.092185</td>\n",
       "      <td>-0.097128</td>\n",
       "      <td>0.713804</td>\n",
       "      <td>0.956532</td>\n",
       "      <td>0.955388</td>\n",
       "    </tr>\n",
       "    <tr>\n",
       "      <th>Unemployment_rate</th>\n",
       "      <td>0.068900</td>\n",
       "      <td>0.126603</td>\n",
       "      <td>0.083192</td>\n",
       "      <td>0.101502</td>\n",
       "      <td>0.059108</td>\n",
       "      <td>0.073205</td>\n",
       "      <td>0.059872</td>\n",
       "      <td>0.068056</td>\n",
       "      <td>0.063349</td>\n",
       "      <td>0.108944</td>\n",
       "      <td>0.057171</td>\n",
       "      <td>0.165282</td>\n",
       "      <td>1.000000</td>\n",
       "      <td>-0.108833</td>\n",
       "      <td>-0.096156</td>\n",
       "      <td>-0.032768</td>\n",
       "      <td>-0.014552</td>\n",
       "      <td>0.116365</td>\n",
       "      <td>0.128444</td>\n",
       "    </tr>\n",
       "    <tr>\n",
       "      <th>Median</th>\n",
       "      <td>-0.873308</td>\n",
       "      <td>-0.176072</td>\n",
       "      <td>-0.106738</td>\n",
       "      <td>0.025991</td>\n",
       "      <td>-0.182842</td>\n",
       "      <td>-0.618690</td>\n",
       "      <td>-0.067578</td>\n",
       "      <td>-0.107547</td>\n",
       "      <td>-0.082258</td>\n",
       "      <td>-0.190124</td>\n",
       "      <td>-0.072982</td>\n",
       "      <td>-0.126386</td>\n",
       "      <td>-0.108833</td>\n",
       "      <td>1.000000</td>\n",
       "      <td>0.891683</td>\n",
       "      <td>0.901923</td>\n",
       "      <td>-0.050276</td>\n",
       "      <td>-0.174363</td>\n",
       "      <td>-0.209431</td>\n",
       "    </tr>\n",
       "    <tr>\n",
       "      <th>P25th</th>\n",
       "      <td>-0.735688</td>\n",
       "      <td>-0.166864</td>\n",
       "      <td>-0.071926</td>\n",
       "      <td>0.038725</td>\n",
       "      <td>-0.137738</td>\n",
       "      <td>-0.500199</td>\n",
       "      <td>-0.025229</td>\n",
       "      <td>-0.067514</td>\n",
       "      <td>-0.042957</td>\n",
       "      <td>-0.153509</td>\n",
       "      <td>-0.033034</td>\n",
       "      <td>-0.092185</td>\n",
       "      <td>-0.096156</td>\n",
       "      <td>0.891683</td>\n",
       "      <td>1.000000</td>\n",
       "      <td>0.734491</td>\n",
       "      <td>-0.011554</td>\n",
       "      <td>-0.138877</td>\n",
       "      <td>-0.173835</td>\n",
       "    </tr>\n",
       "    <tr>\n",
       "      <th>P75th</th>\n",
       "      <td>-0.802686</td>\n",
       "      <td>-0.094556</td>\n",
       "      <td>-0.083198</td>\n",
       "      <td>0.052393</td>\n",
       "      <td>-0.164528</td>\n",
       "      <td>-0.586932</td>\n",
       "      <td>-0.055737</td>\n",
       "      <td>-0.087560</td>\n",
       "      <td>-0.065073</td>\n",
       "      <td>-0.158220</td>\n",
       "      <td>-0.056932</td>\n",
       "      <td>-0.097128</td>\n",
       "      <td>-0.032768</td>\n",
       "      <td>0.901923</td>\n",
       "      <td>0.734491</td>\n",
       "      <td>1.000000</td>\n",
       "      <td>-0.056481</td>\n",
       "      <td>-0.139345</td>\n",
       "      <td>-0.173474</td>\n",
       "    </tr>\n",
       "    <tr>\n",
       "      <th>College_jobs</th>\n",
       "      <td>0.052639</td>\n",
       "      <td>0.041198</td>\n",
       "      <td>0.800465</td>\n",
       "      <td>0.563168</td>\n",
       "      <td>0.851946</td>\n",
       "      <td>0.195550</td>\n",
       "      <td>0.701704</td>\n",
       "      <td>0.797534</td>\n",
       "      <td>0.772515</td>\n",
       "      <td>0.804987</td>\n",
       "      <td>0.755254</td>\n",
       "      <td>0.713804</td>\n",
       "      <td>-0.014552</td>\n",
       "      <td>-0.050276</td>\n",
       "      <td>-0.011554</td>\n",
       "      <td>-0.056481</td>\n",
       "      <td>1.000000</td>\n",
       "      <td>0.613474</td>\n",
       "      <td>0.650238</td>\n",
       "    </tr>\n",
       "    <tr>\n",
       "      <th>Non_college_jobs</th>\n",
       "      <td>0.144689</td>\n",
       "      <td>0.232425</td>\n",
       "      <td>0.941247</td>\n",
       "      <td>0.851500</td>\n",
       "      <td>0.872132</td>\n",
       "      <td>0.137007</td>\n",
       "      <td>0.915464</td>\n",
       "      <td>0.941326</td>\n",
       "      <td>0.933124</td>\n",
       "      <td>0.909634</td>\n",
       "      <td>0.928874</td>\n",
       "      <td>0.956532</td>\n",
       "      <td>0.116365</td>\n",
       "      <td>-0.174363</td>\n",
       "      <td>-0.138877</td>\n",
       "      <td>-0.139345</td>\n",
       "      <td>0.613474</td>\n",
       "      <td>1.000000</td>\n",
       "      <td>0.975733</td>\n",
       "    </tr>\n",
       "    <tr>\n",
       "      <th>Low_wage_jobs</th>\n",
       "      <td>0.202920</td>\n",
       "      <td>0.225294</td>\n",
       "      <td>0.935510</td>\n",
       "      <td>0.791336</td>\n",
       "      <td>0.904470</td>\n",
       "      <td>0.187850</td>\n",
       "      <td>0.860319</td>\n",
       "      <td>0.927224</td>\n",
       "      <td>0.904852</td>\n",
       "      <td>0.951593</td>\n",
       "      <td>0.892847</td>\n",
       "      <td>0.955388</td>\n",
       "      <td>0.128444</td>\n",
       "      <td>-0.209431</td>\n",
       "      <td>-0.173835</td>\n",
       "      <td>-0.173474</td>\n",
       "      <td>0.650238</td>\n",
       "      <td>0.975733</td>\n",
       "      <td>1.000000</td>\n",
       "    </tr>\n",
       "  </tbody>\n",
       "</table>\n",
       "</div>"
      ],
      "text/plain": [
       "                          Rank  Major_code     Total       Men     Women  \\\n",
       "Rank                  1.000000    0.108429  0.071137 -0.094780  0.174913   \n",
       "Major_code            0.108429    1.000000  0.196784  0.179299  0.181459   \n",
       "Total                 0.071137    0.196784  1.000000  0.878088  0.944764   \n",
       "Men                  -0.094780    0.179299  0.878088  1.000000  0.672759   \n",
       "Women                 0.174913    0.181459  0.944764  0.672759  1.000000   \n",
       "ShareWomen            0.643781    0.259211  0.142999 -0.112014  0.297832   \n",
       "Sample_size           0.008492    0.206580  0.945575  0.875176  0.862606   \n",
       "Employed              0.070751    0.200925  0.996214  0.870605  0.944037   \n",
       "Full_time             0.034725    0.199397  0.989339  0.893563  0.917681   \n",
       "Part_time             0.193174    0.195184  0.950268  0.751592  0.954513   \n",
       "Full_time_year_round  0.020418    0.205634  0.981112  0.892454  0.905720   \n",
       "Unemployed            0.090078    0.223418  0.974768  0.869411  0.911694   \n",
       "Unemployment_rate     0.068900    0.126603  0.083192  0.101502  0.059108   \n",
       "Median               -0.873308   -0.176072 -0.106738  0.025991 -0.182842   \n",
       "P25th                -0.735688   -0.166864 -0.071926  0.038725 -0.137738   \n",
       "P75th                -0.802686   -0.094556 -0.083198  0.052393 -0.164528   \n",
       "College_jobs          0.052639    0.041198  0.800465  0.563168  0.851946   \n",
       "Non_college_jobs      0.144689    0.232425  0.941247  0.851500  0.872132   \n",
       "Low_wage_jobs         0.202920    0.225294  0.935510  0.791336  0.904470   \n",
       "\n",
       "                      ShareWomen  Sample_size  Employed  Full_time  Part_time  \\\n",
       "Rank                    0.643781     0.008492  0.070751   0.034725   0.193174   \n",
       "Major_code              0.259211     0.206580  0.200925   0.199397   0.195184   \n",
       "Total                   0.142999     0.945575  0.996214   0.989339   0.950268   \n",
       "Men                    -0.112014     0.875176  0.870605   0.893563   0.751592   \n",
       "Women                   0.297832     0.862606  0.944037   0.917681   0.954513   \n",
       "ShareWomen              1.000000     0.097496  0.147547   0.120200   0.212290   \n",
       "Sample_size             0.097496     1.000000  0.964462   0.978396   0.824824   \n",
       "Employed                0.147547     0.964462  1.000000   0.995838   0.934528   \n",
       "Full_time               0.120200     0.978396  0.995838   1.000000   0.900877   \n",
       "Part_time               0.212290     0.824824  0.934528   0.900877   1.000000   \n",
       "Full_time_year_round    0.112523     0.985235  0.991047   0.998203   0.880855   \n",
       "Unemployed              0.121243     0.918059  0.968900   0.960102   0.945094   \n",
       "Unemployment_rate       0.073205     0.059872  0.068056   0.063349   0.108944   \n",
       "Median                 -0.618690    -0.067578 -0.107547  -0.082258  -0.190124   \n",
       "P25th                  -0.500199    -0.025229 -0.067514  -0.042957  -0.153509   \n",
       "P75th                  -0.586932    -0.055737 -0.087560  -0.065073  -0.158220   \n",
       "College_jobs            0.195550     0.701704  0.797534   0.772515   0.804987   \n",
       "Non_college_jobs        0.137007     0.915464  0.941326   0.933124   0.909634   \n",
       "Low_wage_jobs           0.187850     0.860319  0.927224   0.904852   0.951593   \n",
       "\n",
       "                      Full_time_year_round  Unemployed  Unemployment_rate  \\\n",
       "Rank                              0.020418    0.090078           0.068900   \n",
       "Major_code                        0.205634    0.223418           0.126603   \n",
       "Total                             0.981112    0.974768           0.083192   \n",
       "Men                               0.892454    0.869411           0.101502   \n",
       "Women                             0.905720    0.911694           0.059108   \n",
       "ShareWomen                        0.112523    0.121243           0.073205   \n",
       "Sample_size                       0.985235    0.918059           0.059872   \n",
       "Employed                          0.991047    0.968900           0.068056   \n",
       "Full_time                         0.998203    0.960102           0.063349   \n",
       "Part_time                         0.880855    0.945094           0.108944   \n",
       "Full_time_year_round              1.000000    0.950711           0.057171   \n",
       "Unemployed                        0.950711    1.000000           0.165282   \n",
       "Unemployment_rate                 0.057171    0.165282           1.000000   \n",
       "Median                           -0.072982   -0.126386          -0.108833   \n",
       "P25th                            -0.033034   -0.092185          -0.096156   \n",
       "P75th                            -0.056932   -0.097128          -0.032768   \n",
       "College_jobs                      0.755254    0.713804          -0.014552   \n",
       "Non_college_jobs                  0.928874    0.956532           0.116365   \n",
       "Low_wage_jobs                     0.892847    0.955388           0.128444   \n",
       "\n",
       "                        Median     P25th     P75th  College_jobs  \\\n",
       "Rank                 -0.873308 -0.735688 -0.802686      0.052639   \n",
       "Major_code           -0.176072 -0.166864 -0.094556      0.041198   \n",
       "Total                -0.106738 -0.071926 -0.083198      0.800465   \n",
       "Men                   0.025991  0.038725  0.052393      0.563168   \n",
       "Women                -0.182842 -0.137738 -0.164528      0.851946   \n",
       "ShareWomen           -0.618690 -0.500199 -0.586932      0.195550   \n",
       "Sample_size          -0.067578 -0.025229 -0.055737      0.701704   \n",
       "Employed             -0.107547 -0.067514 -0.087560      0.797534   \n",
       "Full_time            -0.082258 -0.042957 -0.065073      0.772515   \n",
       "Part_time            -0.190124 -0.153509 -0.158220      0.804987   \n",
       "Full_time_year_round -0.072982 -0.033034 -0.056932      0.755254   \n",
       "Unemployed           -0.126386 -0.092185 -0.097128      0.713804   \n",
       "Unemployment_rate    -0.108833 -0.096156 -0.032768     -0.014552   \n",
       "Median                1.000000  0.891683  0.901923     -0.050276   \n",
       "P25th                 0.891683  1.000000  0.734491     -0.011554   \n",
       "P75th                 0.901923  0.734491  1.000000     -0.056481   \n",
       "College_jobs         -0.050276 -0.011554 -0.056481      1.000000   \n",
       "Non_college_jobs     -0.174363 -0.138877 -0.139345      0.613474   \n",
       "Low_wage_jobs        -0.209431 -0.173835 -0.173474      0.650238   \n",
       "\n",
       "                      Non_college_jobs  Low_wage_jobs  \n",
       "Rank                          0.144689       0.202920  \n",
       "Major_code                    0.232425       0.225294  \n",
       "Total                         0.941247       0.935510  \n",
       "Men                           0.851500       0.791336  \n",
       "Women                         0.872132       0.904470  \n",
       "ShareWomen                    0.137007       0.187850  \n",
       "Sample_size                   0.915464       0.860319  \n",
       "Employed                      0.941326       0.927224  \n",
       "Full_time                     0.933124       0.904852  \n",
       "Part_time                     0.909634       0.951593  \n",
       "Full_time_year_round          0.928874       0.892847  \n",
       "Unemployed                    0.956532       0.955388  \n",
       "Unemployment_rate             0.116365       0.128444  \n",
       "Median                       -0.174363      -0.209431  \n",
       "P25th                        -0.138877      -0.173835  \n",
       "P75th                        -0.139345      -0.173474  \n",
       "College_jobs                  0.613474       0.650238  \n",
       "Non_college_jobs              1.000000       0.975733  \n",
       "Low_wage_jobs                 0.975733       1.000000  "
      ]
     },
     "execution_count": 19,
     "metadata": {},
     "output_type": "execute_result"
    }
   ],
   "source": [
    "df.corr()"
   ]
  },
  {
   "cell_type": "markdown",
   "metadata": {},
   "source": [
    "Often you want to see whether two columns of a dataset are connected. If you pick a major with higher median earnings, do you also have a lower chance of unemployment? As a first step, create a scatter plot with those two columns:"
   ]
  },
  {
   "cell_type": "code",
   "execution_count": 14,
   "metadata": {},
   "outputs": [
    {
     "data": {
      "text/plain": [
       "<matplotlib.axes._subplots.AxesSubplot at 0x23357751988>"
      ]
     },
     "execution_count": 14,
     "metadata": {},
     "output_type": "execute_result"
    },
    {
     "data": {
      "image/png": "[encoded data removed]",
      "text/plain": [
       "<Figure size 432x288 with 1 Axes>"
      ]
     },
     "metadata": {
      "needs_background": "light"
     },
     "output_type": "display_data"
    }
   ],
   "source": [
    "df.plot(x=\"Median\", y=\"Unemployment_rate\", kind=\"scatter\")"
   ]
  },
  {
   "cell_type": "markdown",
   "metadata": {},
   "source": [
    "While a scatter plot is an excellent tool for getting a first impression about possible correlation, it certainly isn’t definitive proof of a connection. For an overview of the correlations between different columns, you can use df.corr(). If you suspect a correlation between two values, then you have several tools at your disposal to verify your hunch and measure how strong the correlation is.\n",
    "\n",
    "Keep in mind, though, that even if a correlation exists between two values, it still doesn’t mean that a change in one would result in a change in the other. In other words, correlation does not imply causation."
   ]
  },
  {
   "cell_type": "markdown",
   "metadata": {},
   "source": [
    "## Analyze Categorical Data"
   ]
  },
  {
   "cell_type": "markdown",
   "metadata": {},
   "source": [
    "Technique 1 : Grouping:\n",
    "- A basic usage of categories is grouping and aggregation. You can use .groupby() to determine how popular each of the categories in the college major dataset are:\n",
    "\n"
   ]
  },
  {
   "cell_type": "code",
   "execution_count": 15,
   "metadata": {},
   "outputs": [
    {
     "data": {
      "text/plain": [
       "Major_category\n",
       "Interdisciplinary                        12296.0\n",
       "Agriculture & Natural Resources          75620.0\n",
       "Law & Public Policy                     179107.0\n",
       "Physical Sciences                       185479.0\n",
       "Industrial Arts & Consumer Services     229792.0\n",
       "Computers & Mathematics                 299008.0\n",
       "Arts                                    357130.0\n",
       "Communications & Journalism             392601.0\n",
       "Biology & Life Science                  453862.0\n",
       "Health                                  463230.0\n",
       "Psychology & Social Work                481007.0\n",
       "Social Science                          529966.0\n",
       "Engineering                             537583.0\n",
       "Education                               559129.0\n",
       "Humanities & Liberal Arts               713468.0\n",
       "Business                               1302376.0\n",
       "Name: Total, dtype: float64"
      ]
     },
     "execution_count": 15,
     "metadata": {},
     "output_type": "execute_result"
    }
   ],
   "source": [
    "cat_totals = df.groupby(\"Major_category\")[\"Total\"].sum().sort_values()\n",
    "cat_totals"
   ]
  },
  {
   "cell_type": "markdown",
   "metadata": {},
   "source": [
    "With .groupby(), you create a DataFrameGroupBy object. With .sum(), you create a Series.\n",
    "\n",
    "Let’s draw a horizontal bar plot showing all the category totals in cat_totals:"
   ]
  },
  {
   "cell_type": "code",
   "execution_count": 16,
   "metadata": {},
   "outputs": [
    {
     "data": {
      "text/plain": [
       "Text(0, 0.5, 'Majors Category')"
      ]
     },
     "execution_count": 16,
     "metadata": {},
     "output_type": "execute_result"
    },
    {
     "data": {
      "image/png": "[encoded data removed]",
      "text/plain": [
       "<Figure size 720x432 with 1 Axes>"
      ]
     },
     "metadata": {
      "needs_background": "light"
     },
     "output_type": "display_data"
    }
   ],
   "source": [
    "cat_totals.plot(kind=\"barh\", fontsize=4,rot=5,linewidth=2,figsize=(10,6))\n",
    "plt.xticks(fontsize = 7.5)\n",
    "plt.yticks(fontsize = 10)\n",
    "plt.xlabel(\"Total Salary\")\n",
    "plt.ylabel(\"Majors Category\")"
   ]
  },
  {
   "cell_type": "markdown",
   "metadata": {},
   "source": [
    "Technique 2 Determining Ratios"
   ]
  },
  {
   "cell_type": "markdown",
   "metadata": {},
   "source": [
    "If you’re interested in ratios, then pie plots are an excellent tool. However, since cat_totals contains a few smaller categories, creating a pie plot with cat_totals.plot(kind=\"pie\") will produce several tiny slices with overlapping labels .\n",
    "\n",
    "To address this problem, I will only create pie chart for Categores that have salaries greater than $100,000"
   ]
  },
  {
   "cell_type": "code",
   "execution_count": 17,
   "metadata": {},
   "outputs": [
    {
     "data": {
      "text/plain": [
       "<matplotlib.axes._subplots.AxesSubplot at 0x2335899abc8>"
      ]
     },
     "execution_count": 17,
     "metadata": {},
     "output_type": "execute_result"
    },
    {
     "data": {
      "image/png": "[encoded data removed]",
      "text/plain": [
       "<Figure size 432x288 with 1 Axes>"
      ]
     },
     "metadata": {},
     "output_type": "display_data"
    }
   ],
   "source": [
    "#categories with greater than 100,000 salaries\n",
    "big_cat_totals = cat_totals[cat_totals > 100_000]\n",
    "\n",
    "#finally create the plot\n",
    "big_cat_totals.plot(kind=\"pie\", label=\"\")"
   ]
  },
  {
   "cell_type": "code",
   "execution_count": 18,
   "metadata": {},
   "outputs": [
    {
     "data": {
      "text/plain": [
       "Major_category\n",
       "Law & Public Policy                     179107.0\n",
       "Physical Sciences                       185479.0\n",
       "Industrial Arts & Consumer Services     229792.0\n",
       "Computers & Mathematics                 299008.0\n",
       "Arts                                    357130.0\n",
       "Communications & Journalism             392601.0\n",
       "Biology & Life Science                  453862.0\n",
       "Health                                  463230.0\n",
       "Psychology & Social Work                481007.0\n",
       "Social Science                          529966.0\n",
       "Engineering                             537583.0\n",
       "Education                               559129.0\n",
       "Humanities & Liberal Arts               713468.0\n",
       "Business                               1302376.0\n",
       "Name: Total, dtype: float64"
      ]
     },
     "execution_count": 18,
     "metadata": {},
     "output_type": "execute_result"
    }
   ],
   "source": [
    "big_cat_totals"
   ]
  },
  {
   "cell_type": "markdown",
   "metadata": {},
   "source": [
    "## END"
   ]
  }
 ],
 "metadata": {
  "kernelspec": {
   "display_name": "Python 3",
   "language": "python",
   "name": "python3"
  },
  "language_info": {
   "codemirror_mode": {
    "name": "ipython",
    "version": 3
   },
   "file_extension": ".py",
   "mimetype": "text/x-python",
   "name": "python",
   "nbconvert_exporter": "python",
   "pygments_lexer": "ipython3",
   "version": "3.7.4"
  }
 },
 "nbformat": 4,
 "nbformat_minor": 2
}
